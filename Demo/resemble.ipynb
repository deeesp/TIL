{
 "cells": [
  {
   "cell_type": "markdown",
   "metadata": {},
   "source": [
    "## Make OOD text"
   ]
  },
  {
   "cell_type": "code",
   "execution_count": null,
   "metadata": {},
   "outputs": [],
   "source": [
    "import os\n",
    "import json\n",
    "import pandas as pd\n",
    "\n",
    "csv_list = [\n",
    "    '/data/guhyun/csv/aihub_300.csv',\n",
    "    '/data/guhyun/csv/aihub_139_1.csv',\n",
    "]\n",
    "\n",
    "text_list = list()\n",
    "for csv in csv_list:\n",
    "    df = pd.read_csv(csv, sep='|')\n",
    "    text_list.extend(df['text'].to_list())\n",
    "\n",
    "text_list = list(set(text_list))\n",
    "len(text_list)\n"
   ]
  },
  {
   "cell_type": "code",
   "execution_count": null,
   "metadata": {},
   "outputs": [],
   "source": [
    "import re\n",
    "from tqdm import tqdm\n",
    "\n",
    "path = '/data/guhyun/aihub/134-1.감정이_태깅된_자유대화_(성인)/01-1.정식개방데이터/Validation/02.라벨링데이터'\n",
    "\n",
    "json_list = [os.path.join(path, i) for i in os.listdir(path) if 'json' in i]\n",
    "text_list = list()\n",
    "for _json in tqdm(json_list):\n",
    "    with open(_json) as f:\n",
    "        info = json.load(f)\n",
    "    \n",
    "    for item in info['Conversation']:\n",
    "        text = item['Text']\n",
    "        text_list.append(item['Text'])\n",
    "\n",
    "texts = list(set(text_list))\n",
    "texts = [t for t in texts if t[-1] in ['요','어']]\n",
    "\n",
    "new_texts = list()\n",
    "for t in texts:\n",
    "    if re.findall(r'[^가-힣 ]', t):\n",
    "        print(t)\n",
    "        continue\n",
    "    new_texts.append(t)\n",
    "\n",
    "len(new_texts)"
   ]
  },
  {
   "cell_type": "code",
   "execution_count": null,
   "metadata": {},
   "outputs": [],
   "source": [
    "with open('/data/guhyun/csv/ood_text.txt', \"w\") as f:\n",
    "    for t in new_texts:\n",
    "        f.write(t+'\\n')"
   ]
  },
  {
   "cell_type": "code",
   "execution_count": null,
   "metadata": {},
   "outputs": [],
   "source": []
  }
 ],
 "metadata": {
  "kernelspec": {
   "display_name": "tacotron2",
   "language": "python",
   "name": "python3"
  },
  "language_info": {
   "codemirror_mode": {
    "name": "ipython",
    "version": 3
   },
   "file_extension": ".py",
   "mimetype": "text/x-python",
   "name": "python",
   "nbconvert_exporter": "python",
   "pygments_lexer": "ipython3",
   "version": "3.7.0"
  },
  "orig_nbformat": 4
 },
 "nbformat": 4,
 "nbformat_minor": 2
}
